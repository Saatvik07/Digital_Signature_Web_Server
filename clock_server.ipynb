{
 "cells": [
  {
   "attachments": {},
   "cell_type": "markdown",
   "metadata": {},
   "source": [
    "**Clock Server - using Cristian's Algorithm**"
   ]
  },
  {
   "cell_type": "code",
   "execution_count": 1,
   "metadata": {},
   "outputs": [],
   "source": [
    "import socket\n",
    "import datetime\n",
    "from _thread import *\n",
    "import json"
   ]
  },
  {
   "cell_type": "code",
   "execution_count": 2,
   "metadata": {},
   "outputs": [],
   "source": [
    "def client_thread(connection, address):\n",
    "    while True:\n",
    "        data = connection.recv(2048).decode('utf-8')\n",
    "        if not data:\n",
    "            break\n",
    "        data = json.loads(data)\n",
    "        client_id = data['id']\n",
    "        message = data['message']\n",
    "        if message == 'SYNC_TIME':\n",
    "            print('Received message {} from client {}'.format(message, client_id))\n",
    "            now = datetime.datetime.now()\n",
    "            connection.sendall(str(now).encode())\n",
    "\n",
    "    connection.close()"
   ]
  },
  {
   "cell_type": "code",
   "execution_count": 3,
   "metadata": {},
   "outputs": [],
   "source": [
    "def clock_server():\n",
    "\thost = '127.0.0.1'\n",
    "\tport = 8080\n",
    "\n",
    "\tclock_server_socket = socket.socket()\n",
    "\tclock_server_socket.bind((host, port))\n",
    "\n",
    "\tprint(\"Clock server is accepting connections now...\")\n",
    "\tclock_server_socket.listen(5)\n",
    "\n",
    "\twhile True:\n",
    "\t\tclient, client_address = clock_server_socket.accept()\n",
    "\t\tprint(\"Connected to Client: \", client_address)\n",
    "\t\tstart_new_thread(client_thread, (client, client_address))"
   ]
  },
  {
   "cell_type": "code",
   "execution_count": 4,
   "metadata": {},
   "outputs": [
    {
     "name": "stdout",
     "output_type": "stream",
     "text": [
      "Clock server is accepting connections now...\n",
      "Connected to Client:  ('127.0.0.1', 52104)\n",
      "Connected to Client:  ('127.0.0.1', 52185)\n",
      "Received message SYNC_TIME from client degree-granting-server\n",
      "Received message SYNC_TIME from client kdc\n",
      "Connected to Client:  ('127.0.0.1', 52198)\n",
      "Received message SYNC_TIME from client 91a5fe2417c2dbd256209d3e75d677bb\n",
      "Received message SYNC_TIME from client kdc\n",
      "Received message SYNC_TIME from client 91a5fe2417c2dbd256209d3e75d677bb\n",
      "Received message SYNC_TIME from client kdc\n",
      "Received message SYNC_TIME from client 91a5fe2417c2dbd256209d3e75d677bb\n",
      "Received message SYNC_TIME from client degree-granting-server\n",
      "Received message SYNC_TIME from client 91a5fe2417c2dbd256209d3e75d677bb\n",
      "Received message SYNC_TIME from client degree-granting-server\n",
      "Received message SYNC_TIME from client kdc\n",
      "Received message SYNC_TIME from client degree-granting-server\n",
      "Received message SYNC_TIME from client 91a5fe2417c2dbd256209d3e75d677bb\n",
      "Received message SYNC_TIME from client degree-granting-server\n",
      "Received message SYNC_TIME from client 91a5fe2417c2dbd256209d3e75d677bb\n"
     ]
    }
   ],
   "source": [
    "if __name__ == '__main__':\n",
    "    clock_server()"
   ]
  },
  {
   "cell_type": "code",
   "execution_count": null,
   "metadata": {},
   "outputs": [],
   "source": []
  }
 ],
 "metadata": {
  "kernelspec": {
   "display_name": "Python 3",
   "language": "python",
   "name": "python3"
  },
  "language_info": {
   "codemirror_mode": {
    "name": "ipython",
    "version": 3
   },
   "file_extension": ".py",
   "mimetype": "text/x-python",
   "name": "python",
   "nbconvert_exporter": "python",
   "pygments_lexer": "ipython3",
   "version": "3.11.2"
  },
  "orig_nbformat": 4
 },
 "nbformat": 4,
 "nbformat_minor": 2
}
