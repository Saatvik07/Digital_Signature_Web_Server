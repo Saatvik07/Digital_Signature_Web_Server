{
 "cells": [
  {
   "attachments": {},
   "cell_type": "markdown",
   "metadata": {},
   "source": [
    "**Clock Server - using Cristian's Algorithm**"
   ]
  },
  {
   "cell_type": "code",
   "execution_count": 46,
   "metadata": {},
   "outputs": [],
   "source": [
    "import socket\n",
    "import datetime"
   ]
  },
  {
   "cell_type": "code",
   "execution_count": 51,
   "metadata": {},
   "outputs": [],
   "source": [
    "def clock_server():\n",
    "\thost = '127.0.0.1'\n",
    "\tport = 3003\n",
    "\n",
    "\tclock_server_socket = socket.socket()\n",
    "\tclock_server_socket.bind((host, port))\n",
    "\n",
    "\tprint(\"Clock server is accepting connections now...\")\n",
    "\tclock_server_socket.listen(5)\n",
    "\n",
    "\tclient, client_address = clock_server_socket.accept()\n",
    "\tprint(\"Connected to Client: \", client_address)\n",
    "\n",
    "\tclient.send(str(datetime.datetime.now()).encode())\n",
    "\n",
    "\tclient.close()"
   ]
  },
  {
   "cell_type": "code",
   "execution_count": 52,
   "metadata": {},
   "outputs": [
    {
     "name": "stdout",
     "output_type": "stream",
     "text": [
      "Clock server is accepting connections now...\n",
      "Connected to Client:  ('127.0.0.1', 52094)\n"
     ]
    }
   ],
   "source": [
    "if __name__ == '__main__':\n",
    "    clock_server()"
   ]
  },
  {
   "cell_type": "code",
   "execution_count": null,
   "metadata": {},
   "outputs": [],
   "source": []
  }
 ],
 "metadata": {
  "kernelspec": {
   "display_name": "Python 3",
   "language": "python",
   "name": "python3"
  },
  "language_info": {
   "codemirror_mode": {
    "name": "ipython",
    "version": 3
   },
   "file_extension": ".py",
   "mimetype": "text/x-python",
   "name": "python",
   "nbconvert_exporter": "python",
   "pygments_lexer": "ipython3",
   "version": "3.8.10"
  },
  "orig_nbformat": 4
 },
 "nbformat": 4,
 "nbformat_minor": 2
}
