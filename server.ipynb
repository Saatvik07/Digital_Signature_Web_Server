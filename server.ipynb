{
 "cells": [
  {
   "cell_type": "code",
   "execution_count": 3,
   "metadata": {},
   "outputs": [],
   "source": [
    "import socket\n",
    "import datetime\n",
    "from dateutil import parser"
   ]
  },
  {
   "cell_type": "code",
   "execution_count": 4,
   "id": "d52c1db6",
   "metadata": {},
   "outputs": [],
   "source": [
    "def certificate_granting_server():\n",
    "\thost = '127.0.0.1'\n",
    "\tcertificate_port = 5000\n",
    "\tcertificate_server_socket = socket.socket()\n",
    "\tcertificate_server_socket.bind((host, certificate_port))\n",
    "\n",
    "\tprint(\"Certificate granting server is accepting connections now...\")\n",
    "\tcertificate_server_socket.listen(5)\n",
    "\n",
    "\tclient, client_address = certificate_server_socket.accept()\n",
    "\tprint(\"Connected to Client: \", client_address)\n",
    "\n",
    "\tclient.send(str(\"Sends certificates\"))\n",
    "\n",
    "\tclient.close()"
   ]
  },
  {
   "cell_type": "code",
   "execution_count": 5,
   "id": "e8b622dc",
   "metadata": {},
   "outputs": [
    {
     "name": "stdout",
     "output_type": "stream",
     "text": [
      "Certificate granting server is accepting connections now...\n"
     ]
    }
   ],
   "source": [
    "if __name__ == '__main__':\n",
    "    certificate_granting_server()"
   ]
  }
 ],
 "metadata": {
  "kernelspec": {
   "display_name": "Python 3",
   "language": "python",
   "name": "python3"
  },
  "language_info": {
   "codemirror_mode": {
    "name": "ipython",
    "version": 3
   },
   "file_extension": ".py",
   "mimetype": "text/x-python",
   "name": "python",
   "nbconvert_exporter": "python",
   "pygments_lexer": "ipython3",
   "version": "3.11.2"
  }
 },
 "nbformat": 4,
 "nbformat_minor": 5
}
