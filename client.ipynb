{
 "cells": [
  {
   "cell_type": "code",
   "execution_count": 1,
   "metadata": {},
   "outputs": [],
   "source": [
    "import socket\n",
    "import datetime\n",
    "from dateutil import parser"
   ]
  },
  {
   "cell_type": "code",
   "execution_count": 2,
   "id": "f95580f7",
   "metadata": {},
   "outputs": [],
   "source": [
    "def getSynchronizedTime(clock_server_connection):\n",
    "    #Time at which client sent a request to clockServer\n",
    "    clock_server_connection.send(\"SYNC_TIME\".encode('utf-8'))\n",
    "    clock_server_request_time = datetime.datetime.now().timestamp()   #T0\n",
    "    synced_time_str = clock_server_connection.recv(2048).decode()\n",
    "    clock_data_recv = parser.parse(synced_time_str)\n",
    "    #Time at which client received a response from the clockServer\n",
    "    clock_server_response_time = datetime.datetime.now().timestamp() #T1\n",
    "    latency = clock_server_response_time - clock_server_request_time\n",
    "    client_time = clock_data_recv + datetime.timedelta(seconds= latency/2)\n",
    "    return client_time"
   ]
  },
  {
   "cell_type": "code",
   "execution_count": 3,
   "id": "9e7b2b69",
   "metadata": {},
   "outputs": [
    {
     "name": "stdout",
     "output_type": "stream",
     "text": [
      "Synced time 2023-04-24 21:25:02.186973\n"
     ]
    }
   ],
   "source": [
    "host = '127.0.0.1'\n",
    "clock_port = 8080\n",
    "certificate_port = 5000\n",
    "\n",
    "clock_server_connection = socket.socket()\n",
    "clock_server_connection.connect((host, clock_port))\n",
    "\n",
    "#connects to certificate granting server\n",
    "synced_time = getSynchronizedTime(clock_server_connection)\n",
    "print('Synced time', synced_time)\n",
    "clock_server_connection.close()"
   ]
  },
  {
   "cell_type": "code",
   "execution_count": null,
   "id": "fa93728f",
   "metadata": {},
   "outputs": [],
   "source": []
  },
  {
   "cell_type": "code",
   "execution_count": null,
   "id": "5461e803",
   "metadata": {},
   "outputs": [],
   "source": []
  }
 ],
 "metadata": {
  "kernelspec": {
   "display_name": "Python 3",
   "language": "python",
   "name": "python3"
  },
  "language_info": {
   "codemirror_mode": {
    "name": "ipython",
    "version": 3
   },
   "file_extension": ".py",
   "mimetype": "text/x-python",
   "name": "python",
   "nbconvert_exporter": "python",
   "pygments_lexer": "ipython3",
   "version": "3.11.2"
  }
 },
 "nbformat": 4,
 "nbformat_minor": 5
}
