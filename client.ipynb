{
 "cells": [
  {
   "attachments": {},
   "cell_type": "markdown",
   "id": "5b5b71c0",
   "metadata": {},
   "source": [
    "**Student side - Client**"
   ]
  },
  {
   "cell_type": "code",
   "execution_count": 22,
   "metadata": {},
   "outputs": [],
   "source": [
    "import socket\n",
    "import datetime\n",
    "from dateutil import parser"
   ]
  },
  {
   "cell_type": "code",
   "execution_count": 25,
   "id": "9e7b2b69",
   "metadata": {},
   "outputs": [
    {
     "name": "stdout",
     "output_type": "stream",
     "text": [
      "Synchronized time: 2023-04-24 09:59:17.158176\n",
      "Actual time: 2023-04-24 09:59:17.158530\n"
     ]
    }
   ],
   "source": [
    "host = '127.0.0.1'\n",
    "clock_port = 3003\n",
    "certificate_port = 5000\n",
    "\n",
    "client_socket = socket.socket()\n",
    "client_socket.connect((host, clock_port))\n",
    "\n",
    "#Time at which client sent a request to clockServer\n",
    "time_request_to_ClockServer = datetime.datetime.now().timestamp()   #T0\n",
    "clock_data_recv = parser.parse(client_socket.recv(1024).decode())   #Tserver\n",
    "#Time at which client received a response from the clockServer\n",
    "time_response_received_from_ClockServer = datetime.datetime.now().timestamp() #T1\n",
    "actual_time = datetime.datetime.now()\n",
    "latency = time_response_received_from_ClockServer - time_request_to_ClockServer\n",
    "client_time = clock_data_recv + datetime.timedelta(seconds= latency/2)\n",
    "print('Synchronized time: ' + str(client_time))\n",
    "print('Actual time: ' +  str(actual_time))\n",
    "client_socket.close()"
   ]
  },
  {
   "cell_type": "code",
   "execution_count": null,
   "id": "fa93728f",
   "metadata": {},
   "outputs": [],
   "source": []
  },
  {
   "cell_type": "code",
   "execution_count": null,
   "id": "5461e803",
   "metadata": {},
   "outputs": [],
   "source": []
  }
 ],
 "metadata": {
  "kernelspec": {
   "display_name": "Python 3",
   "language": "python",
   "name": "python3"
  },
  "language_info": {
   "codemirror_mode": {
    "name": "ipython",
    "version": 3
   },
   "file_extension": ".py",
   "mimetype": "text/x-python",
   "name": "python",
   "nbconvert_exporter": "python",
   "pygments_lexer": "ipython3",
   "version": "3.8.10"
  }
 },
 "nbformat": 4,
 "nbformat_minor": 5
}
